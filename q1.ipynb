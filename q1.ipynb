{
  "nbformat": 4,
  "nbformat_minor": 0,
  "metadata": {
    "colab": {
      "provenance": [],
      "gpuType": "T4",
      "authorship_tag": "ABX9TyOOJxDw+VtFD/EPOCw9PHEh",
      "include_colab_link": true
    },
    "kernelspec": {
      "name": "python3",
      "display_name": "Python 3"
    },
    "language_info": {
      "name": "python"
    },
    "accelerator": "GPU"
  },
  "cells": [
    {
      "cell_type": "markdown",
      "metadata": {
        "id": "view-in-github",
        "colab_type": "text"
      },
      "source": [
        "<a href=\"https://colab.research.google.com/github/Harshil1010/IISC_test/blob/main/q1.ipynb\" target=\"_parent\"><img src=\"https://colab.research.google.com/assets/colab-badge.svg\" alt=\"Open In Colab\"/></a>"
      ]
    },
    {
      "cell_type": "code",
      "execution_count": 1,
      "metadata": {
        "id": "b6PgZNgN1Xeo"
      },
      "outputs": [],
      "source": [
        "import torch\n",
        "import torch.nn as nn\n",
        "import torch.optim as optim\n",
        "import torch.nn.functional as F\n",
        "from torch.utils.data import DataLoader\n",
        "import torchvision\n",
        "import torchvision.transforms as transforms\n",
        "import matplotlib.pyplot as plt\n",
        "import numpy as np\n",
        "from tqdm import tqdm"
      ]
    },
    {
      "cell_type": "code",
      "source": [
        "# Set device\n",
        "device = torch.device(\"cuda\" if torch.cuda.is_available() else \"cpu\")\n",
        "print(f\"Using device: {device}\")"
      ],
      "metadata": {
        "colab": {
          "base_uri": "https://localhost:8080/"
        },
        "id": "wyOAIAwyWNXW",
        "outputId": "0dd85adf-beda-4621-b794-2d972c2dcc78"
      },
      "execution_count": 2,
      "outputs": [
        {
          "output_type": "stream",
          "name": "stdout",
          "text": [
            "Using device: cuda\n"
          ]
        }
      ]
    },
    {
      "cell_type": "code",
      "source": [
        "class PatchEmbedding(nn.Module):\n",
        "    \"\"\"\n",
        "    Converts images into patches and projects them to embedding dimension\n",
        "    \"\"\"\n",
        "    def __init__(self, img_size=32, patch_size=4, in_channels=3, embed_dim=512):\n",
        "        super().__init__()\n",
        "        self.img_size = img_size\n",
        "        self.patch_size = patch_size\n",
        "        self.num_patches = (img_size // patch_size) ** 2\n",
        "\n",
        "        # Convolution layer to extract patches and project to embedding dimension\n",
        "        self.proj = nn.Conv2d(in_channels, embed_dim,\n",
        "                             kernel_size=patch_size, stride=patch_size)\n",
        "\n",
        "    def forward(self, x):\n",
        "        # x shape: (batch_size, 3, 32, 32)\n",
        "        x = self.proj(x)  # (batch_size, embed_dim, num_patches_h, num_patches_w)\n",
        "        x = x.flatten(2)  # (batch_size, embed_dim, num_patches)\n",
        "        x = x.transpose(1, 2)  # (batch_size, num_patches, embed_dim)\n",
        "        return x"
      ],
      "metadata": {
        "id": "AC6sufD4WTlp"
      },
      "execution_count": 3,
      "outputs": []
    },
    {
      "cell_type": "code",
      "source": [
        "class MultiHeadSelfAttention(nn.Module):\n",
        "    \"\"\"\n",
        "    Multi-Head Self Attention mechanism\n",
        "    \"\"\"\n",
        "    def __init__(self, embed_dim=512, num_heads=8, dropout=0.1):\n",
        "        super().__init__()\n",
        "        self.embed_dim = embed_dim\n",
        "        self.num_heads = num_heads\n",
        "        self.head_dim = embed_dim // num_heads\n",
        "\n",
        "        assert self.head_dim * num_heads == embed_dim, \"Embed dim must be divisible by num_heads\"\n",
        "\n",
        "        self.qkv = nn.Linear(embed_dim, embed_dim * 3)  # Query, Key, Value\n",
        "        self.attn_dropout = nn.Dropout(dropout)\n",
        "        self.proj = nn.Linear(embed_dim, embed_dim)\n",
        "        self.proj_dropout = nn.Dropout(dropout)\n",
        "\n",
        "    def forward(self, x):\n",
        "        batch_size, num_tokens, embed_dim = x.shape\n",
        "\n",
        "        # Generate Q, K, V\n",
        "        qkv = self.qkv(x).reshape(batch_size, num_tokens, 3, self.num_heads, self.head_dim)\n",
        "        qkv = qkv.permute(2, 0, 3, 1, 4)  # (3, batch_size, num_heads, num_tokens, head_dim)\n",
        "        q, k, v = qkv[0], qkv[1], qkv[2]\n",
        "\n",
        "        # Scaled dot-product attention\n",
        "        attn_scores = (q @ k.transpose(-2, -1)) / (self.head_dim ** 0.5)\n",
        "        attn_probs = F.softmax(attn_scores, dim=-1)\n",
        "        attn_probs = self.attn_dropout(attn_probs)\n",
        "\n",
        "        # Apply attention to values\n",
        "        x = (attn_probs @ v).transpose(1, 2).reshape(batch_size, num_tokens, embed_dim)\n",
        "        x = self.proj(x)\n",
        "        x = self.proj_dropout(x)\n",
        "        return x"
      ],
      "metadata": {
        "id": "Irqi7DwHWVZg"
      },
      "execution_count": 4,
      "outputs": []
    },
    {
      "cell_type": "code",
      "source": [
        "class MLP(nn.Module):\n",
        "    \"\"\"\n",
        "    Multi-Layer Perceptron (Feed-Forward Network)\n",
        "    \"\"\"\n",
        "    def __init__(self, in_features, hidden_features, out_features, dropout=0.1):\n",
        "        super().__init__()\n",
        "        self.fc1 = nn.Linear(in_features, hidden_features)\n",
        "        self.act = nn.GELU()\n",
        "        self.fc2 = nn.Linear(hidden_features, out_features)\n",
        "        self.dropout = nn.Dropout(dropout)\n",
        "\n",
        "    def forward(self, x):\n",
        "        x = self.fc1(x)\n",
        "        x = self.act(x)\n",
        "        x = self.dropout(x)\n",
        "        x = self.fc2(x)\n",
        "        x = self.dropout(x)\n",
        "        return x\n",
        "\n",
        "class TransformerEncoderBlock(nn.Module):\n",
        "    \"\"\"\n",
        "    Single Transformer Encoder Block (MHSA + MLP with residuals and layer norm)\n",
        "    \"\"\"\n",
        "    def __init__(self, embed_dim=512, num_heads=8, mlp_ratio=4, dropout=0.1):\n",
        "        super().__init__()\n",
        "        self.norm1 = nn.LayerNorm(embed_dim)\n",
        "        self.attn = MultiHeadSelfAttention(embed_dim, num_heads, dropout)\n",
        "        self.norm2 = nn.LayerNorm(embed_dim)\n",
        "\n",
        "        mlp_hidden_dim = int(embed_dim * mlp_ratio)\n",
        "        self.mlp = MLP(embed_dim, mlp_hidden_dim, embed_dim, dropout)\n",
        "\n",
        "    def forward(self, x):\n",
        "        # Multi-Head Self Attention with residual connection\n",
        "        x = x + self.attn(self.norm1(x))\n",
        "        # MLP with residual connection\n",
        "        x = x + self.mlp(self.norm2(x))\n",
        "        return x\n",
        "\n",
        "class VisionTransformer(nn.Module):\n",
        "    \"\"\"\n",
        "    Complete Vision Transformer model\n",
        "    \"\"\"\n",
        "    def __init__(self, img_size=32, patch_size=4, in_channels=3, num_classes=10,\n",
        "                 embed_dim=512, depth=6, num_heads=8, mlp_ratio=4, dropout=0.1):\n",
        "        super().__init__()\n",
        "\n",
        "        # Patch embedding\n",
        "        self.patch_embed = PatchEmbedding(img_size, patch_size, in_channels, embed_dim)\n",
        "        num_patches = self.patch_embed.num_patches\n",
        "\n",
        "        # CLS token and positional embeddings\n",
        "        self.cls_token = nn.Parameter(torch.zeros(1, 1, embed_dim))\n",
        "        self.pos_embed = nn.Parameter(torch.zeros(1, num_patches + 1, embed_dim))\n",
        "        self.pos_dropout = nn.Dropout(dropout)\n",
        "\n",
        "        # Transformer encoder blocks\n",
        "        self.blocks = nn.ModuleList([\n",
        "            TransformerEncoderBlock(embed_dim, num_heads, mlp_ratio, dropout)\n",
        "            for _ in range(depth)\n",
        "        ])\n",
        "\n",
        "        # Layer norm and classification head\n",
        "        self.norm = nn.LayerNorm(embed_dim)\n",
        "        self.head = nn.Linear(embed_dim, num_classes)\n",
        "\n",
        "        # Initialize weights\n",
        "        self._init_weights()\n",
        "\n",
        "    def _init_weights(self):\n",
        "        # Initialize CLS token and positional embeddings\n",
        "        nn.init.trunc_normal_(self.cls_token, std=0.02)\n",
        "        nn.init.trunc_normal_(self.pos_embed, std=0.02)\n",
        "\n",
        "        # Initialize linear layers\n",
        "        for module in self.modules():\n",
        "            if isinstance(module, nn.Linear):\n",
        "                nn.init.trunc_normal_(module.weight, std=0.02)\n",
        "                if module.bias is not None:\n",
        "                    nn.init.constant_(module.bias, 0)\n",
        "\n",
        "    def forward(self, x):\n",
        "        batch_size = x.shape[0]\n",
        "\n",
        "        # Patch embedding\n",
        "        x = self.patch_embed(x)  # (batch_size, num_patches, embed_dim)\n",
        "\n",
        "        # Add CLS token\n",
        "        cls_tokens = self.cls_token.expand(batch_size, -1, -1)\n",
        "        x = torch.cat((cls_tokens, x), dim=1)  # (batch_size, num_patches + 1, embed_dim)\n",
        "\n",
        "        # Add positional embeddings\n",
        "        x = x + self.pos_embed\n",
        "        x = self.pos_dropout(x)\n",
        "\n",
        "        # Pass through transformer blocks\n",
        "        for block in self.blocks:\n",
        "            x = block(x)\n",
        "\n",
        "        # Final layer norm\n",
        "        x = self.norm(x)\n",
        "\n",
        "        # Use CLS token for classification\n",
        "        cls_token_final = x[:, 0]  # Take the CLS token\n",
        "        output = self.head(cls_token_final)\n",
        "\n",
        "        return output"
      ],
      "metadata": {
        "id": "gFIPsSqCZr4e"
      },
      "execution_count": 5,
      "outputs": []
    },
    {
      "cell_type": "code",
      "source": [
        "def get_data_loaders(batch_size=128):\n",
        "    \"\"\"\n",
        "    Prepare CIFAR-10 dataset with data augmentation\n",
        "    \"\"\"\n",
        "    # Data augmentation for training\n",
        "    train_transform = transforms.Compose([\n",
        "        transforms.RandomCrop(32, padding=4),\n",
        "        transforms.RandomHorizontalFlip(),\n",
        "        transforms.ToTensor(),\n",
        "        transforms.Normalize((0.4914, 0.4822, 0.4465), (0.2023, 0.1994, 0.2010))\n",
        "    ])\n",
        "\n",
        "    # Basic transform for testing\n",
        "    test_transform = transforms.Compose([\n",
        "        transforms.ToTensor(),\n",
        "        transforms.Normalize((0.4914, 0.4822, 0.4465), (0.2023, 0.1994, 0.2010))\n",
        "    ])\n",
        "\n",
        "    # Download and load datasets\n",
        "    train_dataset = torchvision.datasets.CIFAR10(\n",
        "        root='./data', train=True, download=True, transform=train_transform\n",
        "    )\n",
        "    test_dataset = torchvision.datasets.CIFAR10(\n",
        "        root='./data', train=False, download=True, transform=test_transform\n",
        "    )\n",
        "\n",
        "    # Create data loaders\n",
        "    train_loader = DataLoader(train_dataset, batch_size=batch_size,\n",
        "                            shuffle=True, num_workers=2)\n",
        "    test_loader = DataLoader(test_dataset, batch_size=batch_size,\n",
        "                           shuffle=False, num_workers=2)\n",
        "\n",
        "    return train_loader, test_loader\n",
        "\n",
        "# Class names for CIFAR-10\n",
        "class_names = ['airplane', 'automobile', 'bird', 'cat', 'deer',\n",
        "               'dog', 'frog', 'horse', 'ship', 'truck']"
      ],
      "metadata": {
        "id": "CFbB0TIcjcs7"
      },
      "execution_count": 6,
      "outputs": []
    },
    {
      "cell_type": "code",
      "source": [
        "def train_model(model, train_loader, test_loader, epochs=50, lr=0.001):\n",
        "    \"\"\"\n",
        "    Training loop for the Vision Transformer\n",
        "    \"\"\"\n",
        "    # Loss function and optimizer\n",
        "    criterion = nn.CrossEntropyLoss()\n",
        "    optimizer = optim.AdamW(model.parameters(), lr=lr, weight_decay=0.01)\n",
        "    scheduler = optim.lr_scheduler.CosineAnnealingLR(optimizer, T_max=epochs)\n",
        "\n",
        "    train_losses = []\n",
        "    test_accuracies = []\n",
        "\n",
        "    for epoch in range(epochs):\n",
        "        model.train()\n",
        "        running_loss = 0.0\n",
        "        progress_bar = tqdm(train_loader, desc=f'Epoch {epoch+1}/{epochs}')\n",
        "\n",
        "        for batch_idx, (images, labels) in enumerate(progress_bar):\n",
        "            images, labels = images.to(device), labels.to(device)\n",
        "\n",
        "            # Forward pass\n",
        "            outputs = model(images)\n",
        "            loss = criterion(outputs, labels)\n",
        "\n",
        "            # Backward pass and optimize\n",
        "            optimizer.zero_grad()\n",
        "            loss.backward()\n",
        "            optimizer.step()\n",
        "\n",
        "            running_loss += loss.item()\n",
        "\n",
        "            # Update progress bar\n",
        "            progress_bar.set_postfix({\n",
        "                'Loss': f'{loss.item():.4f}',\n",
        "                'Avg Loss': f'{running_loss/(batch_idx+1):.4f}'\n",
        "            })\n",
        "\n",
        "        # Calculate average training loss\n",
        "        avg_train_loss = running_loss / len(train_loader)\n",
        "        train_losses.append(avg_train_loss)\n",
        "\n",
        "        # Evaluate on test set\n",
        "        test_accuracy = evaluate_model(model, test_loader)\n",
        "        test_accuracies.append(test_accuracy)\n",
        "\n",
        "        # Update learning rate\n",
        "        scheduler.step()\n",
        "\n",
        "        print(f'Epoch [{epoch+1}/{epochs}], '\n",
        "              f'Train Loss: {avg_train_loss:.4f}, '\n",
        "              f'Test Accuracy: {test_accuracy:.2f}%')\n",
        "\n",
        "    return train_losses, test_accuracies\n",
        "\n",
        "def evaluate_model(model, test_loader):\n",
        "    \"\"\"\n",
        "    Evaluate the model on test set\n",
        "    \"\"\"\n",
        "    model.eval()\n",
        "    correct = 0\n",
        "    total = 0\n",
        "\n",
        "    with torch.no_grad():\n",
        "        for images, labels in test_loader:\n",
        "            images, labels = images.to(device), labels.to(device)\n",
        "            outputs = model(images)\n",
        "            _, predicted = torch.max(outputs.data, 1)\n",
        "            total += labels.size(0)\n",
        "            correct += (predicted == labels).sum().item()\n",
        "\n",
        "    accuracy = 100 * correct / total\n",
        "    return accuracy"
      ],
      "metadata": {
        "id": "B3WlLjqGjjYY"
      },
      "execution_count": 7,
      "outputs": []
    },
    {
      "cell_type": "code",
      "source": [
        "def main():\n",
        "    # Hyperparameters\n",
        "    batch_size = 128\n",
        "    epochs = 50\n",
        "    learning_rate = 0.001\n",
        "\n",
        "    # Get data loaders\n",
        "    train_loader, test_loader = get_data_loaders(batch_size)\n",
        "\n",
        "    # Initialize model\n",
        "    model = VisionTransformer(\n",
        "        img_size=32,\n",
        "        patch_size=4,           # 4x4 patches -> 8x8 = 64 patches\n",
        "        in_channels=3,\n",
        "        num_classes=10,\n",
        "        embed_dim=512,          # Embedding dimension\n",
        "        depth=6,                # Number of transformer blocks\n",
        "        num_heads=8,            # Number of attention heads\n",
        "        mlp_ratio=4,            # MLP expansion ratio\n",
        "        dropout=0.1\n",
        "    ).to(device)\n",
        "\n",
        "    print(f\"Model has {sum(p.numel() for p in model.parameters()):,} parameters\")\n",
        "\n",
        "    # Train the model\n",
        "    train_losses, test_accuracies = train_model(\n",
        "        model, train_loader, test_loader, epochs, learning_rate\n",
        "    )\n",
        "\n",
        "    # Plot results\n",
        "    plt.figure(figsize=(12, 4))\n",
        "\n",
        "    plt.subplot(1, 2, 1)\n",
        "    plt.plot(train_losses)\n",
        "    plt.title('Training Loss')\n",
        "    plt.xlabel('Epoch')\n",
        "    plt.ylabel('Loss')\n",
        "\n",
        "    plt.subplot(1, 2, 2)\n",
        "    plt.plot(test_accuracies)\n",
        "    plt.title('Test Accuracy')\n",
        "    plt.xlabel('Epoch')\n",
        "    plt.ylabel('Accuracy (%)')\n",
        "\n",
        "    plt.tight_layout()\n",
        "    plt.show()\n",
        "\n",
        "    # Final evaluation\n",
        "    final_accuracy = evaluate_model(model, test_loader)\n",
        "    print(f\"Final Test Accuracy: {final_accuracy:.2f}%\")\n",
        "\n",
        "if __name__ == \"__main__\":\n",
        "    main()"
      ],
      "metadata": {
        "colab": {
          "base_uri": "https://localhost:8080/",
          "height": 1000
        },
        "id": "S7tPxuvWjzjA",
        "outputId": "d8a2c700-17d1-417f-801d-a0176e9fd013"
      },
      "execution_count": 8,
      "outputs": [
        {
          "output_type": "stream",
          "name": "stderr",
          "text": [
            "100%|██████████| 170M/170M [03:06<00:00, 914kB/s]\n"
          ]
        },
        {
          "output_type": "stream",
          "name": "stdout",
          "text": [
            "Model has 18,979,338 parameters\n"
          ]
        },
        {
          "output_type": "stream",
          "name": "stderr",
          "text": [
            "Epoch 1/50: 100%|██████████| 391/391 [02:00<00:00,  3.25it/s, Loss=1.9552, Avg Loss=2.0105]\n"
          ]
        },
        {
          "output_type": "stream",
          "name": "stdout",
          "text": [
            "Epoch [1/50], Train Loss: 2.0105, Test Accuracy: 28.11%\n"
          ]
        },
        {
          "output_type": "stream",
          "name": "stderr",
          "text": [
            "Epoch 2/50: 100%|██████████| 391/391 [02:06<00:00,  3.08it/s, Loss=2.1311, Avg Loss=1.9439]\n"
          ]
        },
        {
          "output_type": "stream",
          "name": "stdout",
          "text": [
            "Epoch [2/50], Train Loss: 1.9439, Test Accuracy: 22.72%\n"
          ]
        },
        {
          "output_type": "stream",
          "name": "stderr",
          "text": [
            "Epoch 3/50: 100%|██████████| 391/391 [02:06<00:00,  3.08it/s, Loss=1.9375, Avg Loss=1.9943]\n"
          ]
        },
        {
          "output_type": "stream",
          "name": "stdout",
          "text": [
            "Epoch [3/50], Train Loss: 1.9943, Test Accuracy: 23.71%\n"
          ]
        },
        {
          "output_type": "stream",
          "name": "stderr",
          "text": [
            "Epoch 4/50: 100%|██████████| 391/391 [02:06<00:00,  3.09it/s, Loss=2.0038, Avg Loss=1.9900]\n"
          ]
        },
        {
          "output_type": "stream",
          "name": "stdout",
          "text": [
            "Epoch [4/50], Train Loss: 1.9900, Test Accuracy: 24.44%\n"
          ]
        },
        {
          "output_type": "stream",
          "name": "stderr",
          "text": [
            "Epoch 5/50: 100%|██████████| 391/391 [02:06<00:00,  3.08it/s, Loss=2.1093, Avg Loss=1.9857]\n"
          ]
        },
        {
          "output_type": "stream",
          "name": "stdout",
          "text": [
            "Epoch [5/50], Train Loss: 1.9857, Test Accuracy: 24.75%\n"
          ]
        },
        {
          "output_type": "stream",
          "name": "stderr",
          "text": [
            "Epoch 6/50: 100%|██████████| 391/391 [02:06<00:00,  3.09it/s, Loss=1.8696, Avg Loss=1.9698]\n"
          ]
        },
        {
          "output_type": "stream",
          "name": "stdout",
          "text": [
            "Epoch [6/50], Train Loss: 1.9698, Test Accuracy: 24.35%\n"
          ]
        },
        {
          "output_type": "stream",
          "name": "stderr",
          "text": [
            "Epoch 7/50: 100%|██████████| 391/391 [02:06<00:00,  3.10it/s, Loss=1.9908, Avg Loss=1.9770]\n"
          ]
        },
        {
          "output_type": "stream",
          "name": "stdout",
          "text": [
            "Epoch [7/50], Train Loss: 1.9770, Test Accuracy: 26.52%\n"
          ]
        },
        {
          "output_type": "stream",
          "name": "stderr",
          "text": [
            "Epoch 8/50: 100%|██████████| 391/391 [02:06<00:00,  3.10it/s, Loss=1.9182, Avg Loss=1.9612]\n"
          ]
        },
        {
          "output_type": "stream",
          "name": "stdout",
          "text": [
            "Epoch [8/50], Train Loss: 1.9612, Test Accuracy: 26.87%\n"
          ]
        },
        {
          "output_type": "stream",
          "name": "stderr",
          "text": [
            "Epoch 9/50: 100%|██████████| 391/391 [02:05<00:00,  3.11it/s, Loss=2.0436, Avg Loss=1.9536]\n"
          ]
        },
        {
          "output_type": "stream",
          "name": "stdout",
          "text": [
            "Epoch [9/50], Train Loss: 1.9536, Test Accuracy: 24.50%\n"
          ]
        },
        {
          "output_type": "stream",
          "name": "stderr",
          "text": [
            "Epoch 10/50: 100%|██████████| 391/391 [02:05<00:00,  3.10it/s, Loss=2.1003, Avg Loss=1.9498]\n"
          ]
        },
        {
          "output_type": "stream",
          "name": "stdout",
          "text": [
            "Epoch [10/50], Train Loss: 1.9498, Test Accuracy: 25.70%\n"
          ]
        },
        {
          "output_type": "stream",
          "name": "stderr",
          "text": [
            "Epoch 11/50: 100%|██████████| 391/391 [02:05<00:00,  3.11it/s, Loss=2.0431, Avg Loss=1.9426]\n"
          ]
        },
        {
          "output_type": "stream",
          "name": "stdout",
          "text": [
            "Epoch [11/50], Train Loss: 1.9426, Test Accuracy: 27.21%\n"
          ]
        },
        {
          "output_type": "stream",
          "name": "stderr",
          "text": [
            "Epoch 12/50: 100%|██████████| 391/391 [02:05<00:00,  3.12it/s, Loss=1.9302, Avg Loss=1.9552]\n"
          ]
        },
        {
          "output_type": "stream",
          "name": "stdout",
          "text": [
            "Epoch [12/50], Train Loss: 1.9552, Test Accuracy: 26.25%\n"
          ]
        },
        {
          "output_type": "stream",
          "name": "stderr",
          "text": [
            "Epoch 13/50: 100%|██████████| 391/391 [02:05<00:00,  3.12it/s, Loss=1.8938, Avg Loss=1.9315]\n"
          ]
        },
        {
          "output_type": "stream",
          "name": "stdout",
          "text": [
            "Epoch [13/50], Train Loss: 1.9315, Test Accuracy: 25.25%\n"
          ]
        },
        {
          "output_type": "stream",
          "name": "stderr",
          "text": [
            "Epoch 14/50: 100%|██████████| 391/391 [02:05<00:00,  3.12it/s, Loss=1.9765, Avg Loss=1.9178]\n"
          ]
        },
        {
          "output_type": "stream",
          "name": "stdout",
          "text": [
            "Epoch [14/50], Train Loss: 1.9178, Test Accuracy: 25.58%\n"
          ]
        },
        {
          "output_type": "stream",
          "name": "stderr",
          "text": [
            "Epoch 15/50: 100%|██████████| 391/391 [02:05<00:00,  3.12it/s, Loss=1.9305, Avg Loss=1.9136]\n"
          ]
        },
        {
          "output_type": "stream",
          "name": "stdout",
          "text": [
            "Epoch [15/50], Train Loss: 1.9136, Test Accuracy: 25.48%\n"
          ]
        },
        {
          "output_type": "stream",
          "name": "stderr",
          "text": [
            "Epoch 16/50: 100%|██████████| 391/391 [02:05<00:00,  3.12it/s, Loss=1.9274, Avg Loss=1.9072]\n"
          ]
        },
        {
          "output_type": "stream",
          "name": "stdout",
          "text": [
            "Epoch [16/50], Train Loss: 1.9072, Test Accuracy: 25.11%\n"
          ]
        },
        {
          "output_type": "stream",
          "name": "stderr",
          "text": [
            "Epoch 17/50: 100%|██████████| 391/391 [02:05<00:00,  3.12it/s, Loss=1.8803, Avg Loss=1.9205]\n"
          ]
        },
        {
          "output_type": "stream",
          "name": "stdout",
          "text": [
            "Epoch [17/50], Train Loss: 1.9205, Test Accuracy: 23.07%\n"
          ]
        },
        {
          "output_type": "stream",
          "name": "stderr",
          "text": [
            "Epoch 18/50: 100%|██████████| 391/391 [02:05<00:00,  3.12it/s, Loss=2.0339, Avg Loss=1.9367]\n"
          ]
        },
        {
          "output_type": "stream",
          "name": "stdout",
          "text": [
            "Epoch [18/50], Train Loss: 1.9367, Test Accuracy: 25.95%\n"
          ]
        },
        {
          "output_type": "stream",
          "name": "stderr",
          "text": [
            "Epoch 19/50: 100%|██████████| 391/391 [02:05<00:00,  3.12it/s, Loss=1.9612, Avg Loss=2.0202]\n"
          ]
        },
        {
          "output_type": "stream",
          "name": "stdout",
          "text": [
            "Epoch [19/50], Train Loss: 2.0202, Test Accuracy: 24.56%\n"
          ]
        },
        {
          "output_type": "stream",
          "name": "stderr",
          "text": [
            "Epoch 20/50: 100%|██████████| 391/391 [02:04<00:00,  3.14it/s, Loss=2.0475, Avg Loss=1.9929]\n"
          ]
        },
        {
          "output_type": "stream",
          "name": "stdout",
          "text": [
            "Epoch [20/50], Train Loss: 1.9929, Test Accuracy: 25.83%\n"
          ]
        },
        {
          "output_type": "stream",
          "name": "stderr",
          "text": [
            "Epoch 21/50: 100%|██████████| 391/391 [02:04<00:00,  3.14it/s, Loss=1.9493, Avg Loss=1.9830]\n"
          ]
        },
        {
          "output_type": "stream",
          "name": "stdout",
          "text": [
            "Epoch [21/50], Train Loss: 1.9830, Test Accuracy: 26.60%\n"
          ]
        },
        {
          "output_type": "stream",
          "name": "stderr",
          "text": [
            "Epoch 22/50: 100%|██████████| 391/391 [02:04<00:00,  3.14it/s, Loss=1.9687, Avg Loss=1.9777]\n"
          ]
        },
        {
          "output_type": "stream",
          "name": "stdout",
          "text": [
            "Epoch [22/50], Train Loss: 1.9777, Test Accuracy: 25.98%\n"
          ]
        },
        {
          "output_type": "stream",
          "name": "stderr",
          "text": [
            "Epoch 23/50: 100%|██████████| 391/391 [02:04<00:00,  3.14it/s, Loss=2.0713, Avg Loss=1.9753]\n"
          ]
        },
        {
          "output_type": "stream",
          "name": "stdout",
          "text": [
            "Epoch [23/50], Train Loss: 1.9753, Test Accuracy: 25.14%\n"
          ]
        },
        {
          "output_type": "stream",
          "name": "stderr",
          "text": [
            "Epoch 24/50: 100%|██████████| 391/391 [02:04<00:00,  3.14it/s, Loss=1.8901, Avg Loss=1.9766]\n"
          ]
        },
        {
          "output_type": "stream",
          "name": "stdout",
          "text": [
            "Epoch [24/50], Train Loss: 1.9766, Test Accuracy: 25.49%\n"
          ]
        },
        {
          "output_type": "stream",
          "name": "stderr",
          "text": [
            "Epoch 25/50: 100%|██████████| 391/391 [02:04<00:00,  3.14it/s, Loss=2.0072, Avg Loss=1.9795]\n"
          ]
        },
        {
          "output_type": "stream",
          "name": "stdout",
          "text": [
            "Epoch [25/50], Train Loss: 1.9795, Test Accuracy: 25.38%\n"
          ]
        },
        {
          "output_type": "stream",
          "name": "stderr",
          "text": [
            "Epoch 26/50: 100%|██████████| 391/391 [02:04<00:00,  3.13it/s, Loss=1.9825, Avg Loss=1.9684]\n"
          ]
        },
        {
          "output_type": "stream",
          "name": "stdout",
          "text": [
            "Epoch [26/50], Train Loss: 1.9684, Test Accuracy: 25.38%\n"
          ]
        },
        {
          "output_type": "stream",
          "name": "stderr",
          "text": [
            "Epoch 27/50: 100%|██████████| 391/391 [02:04<00:00,  3.13it/s, Loss=2.0247, Avg Loss=1.9626]\n"
          ]
        },
        {
          "output_type": "stream",
          "name": "stdout",
          "text": [
            "Epoch [27/50], Train Loss: 1.9626, Test Accuracy: 26.08%\n"
          ]
        },
        {
          "output_type": "stream",
          "name": "stderr",
          "text": [
            "Epoch 28/50: 100%|██████████| 391/391 [02:04<00:00,  3.13it/s, Loss=1.8662, Avg Loss=1.9583]\n"
          ]
        },
        {
          "output_type": "stream",
          "name": "stdout",
          "text": [
            "Epoch [28/50], Train Loss: 1.9583, Test Accuracy: 25.57%\n"
          ]
        },
        {
          "output_type": "stream",
          "name": "stderr",
          "text": [
            "Epoch 29/50: 100%|██████████| 391/391 [02:04<00:00,  3.14it/s, Loss=1.9318, Avg Loss=1.9555]\n"
          ]
        },
        {
          "output_type": "stream",
          "name": "stdout",
          "text": [
            "Epoch [29/50], Train Loss: 1.9555, Test Accuracy: 24.87%\n"
          ]
        },
        {
          "output_type": "stream",
          "name": "stderr",
          "text": [
            "Epoch 30/50: 100%|██████████| 391/391 [02:04<00:00,  3.14it/s, Loss=1.9807, Avg Loss=1.9492]\n"
          ]
        },
        {
          "output_type": "stream",
          "name": "stdout",
          "text": [
            "Epoch [30/50], Train Loss: 1.9492, Test Accuracy: 25.34%\n"
          ]
        },
        {
          "output_type": "stream",
          "name": "stderr",
          "text": [
            "Epoch 31/50: 100%|██████████| 391/391 [02:04<00:00,  3.14it/s, Loss=1.9216, Avg Loss=1.9416]\n"
          ]
        },
        {
          "output_type": "stream",
          "name": "stdout",
          "text": [
            "Epoch [31/50], Train Loss: 1.9416, Test Accuracy: 25.47%\n"
          ]
        },
        {
          "output_type": "stream",
          "name": "stderr",
          "text": [
            "Epoch 32/50: 100%|██████████| 391/391 [02:04<00:00,  3.14it/s, Loss=1.9435, Avg Loss=1.9444]\n"
          ]
        },
        {
          "output_type": "stream",
          "name": "stdout",
          "text": [
            "Epoch [32/50], Train Loss: 1.9444, Test Accuracy: 26.41%\n"
          ]
        },
        {
          "output_type": "stream",
          "name": "stderr",
          "text": [
            "Epoch 33/50: 100%|██████████| 391/391 [02:04<00:00,  3.14it/s, Loss=1.9790, Avg Loss=1.9396]\n"
          ]
        },
        {
          "output_type": "stream",
          "name": "stdout",
          "text": [
            "Epoch [33/50], Train Loss: 1.9396, Test Accuracy: 25.82%\n"
          ]
        },
        {
          "output_type": "stream",
          "name": "stderr",
          "text": [
            "Epoch 34/50: 100%|██████████| 391/391 [02:04<00:00,  3.15it/s, Loss=1.8706, Avg Loss=1.9350]\n"
          ]
        },
        {
          "output_type": "stream",
          "name": "stdout",
          "text": [
            "Epoch [34/50], Train Loss: 1.9350, Test Accuracy: 25.13%\n"
          ]
        },
        {
          "output_type": "stream",
          "name": "stderr",
          "text": [
            "Epoch 35/50: 100%|██████████| 391/391 [02:04<00:00,  3.14it/s, Loss=1.9543, Avg Loss=1.9333]\n"
          ]
        },
        {
          "output_type": "stream",
          "name": "stdout",
          "text": [
            "Epoch [35/50], Train Loss: 1.9333, Test Accuracy: 25.93%\n"
          ]
        },
        {
          "output_type": "stream",
          "name": "stderr",
          "text": [
            "Epoch 36/50: 100%|██████████| 391/391 [02:04<00:00,  3.14it/s, Loss=1.8414, Avg Loss=1.9261]\n"
          ]
        },
        {
          "output_type": "stream",
          "name": "stdout",
          "text": [
            "Epoch [36/50], Train Loss: 1.9261, Test Accuracy: 26.48%\n"
          ]
        },
        {
          "output_type": "stream",
          "name": "stderr",
          "text": [
            "Epoch 37/50: 100%|██████████| 391/391 [02:04<00:00,  3.13it/s, Loss=1.8899, Avg Loss=1.9249]\n"
          ]
        },
        {
          "output_type": "stream",
          "name": "stdout",
          "text": [
            "Epoch [37/50], Train Loss: 1.9249, Test Accuracy: 27.29%\n"
          ]
        },
        {
          "output_type": "stream",
          "name": "stderr",
          "text": [
            "Epoch 38/50: 100%|██████████| 391/391 [02:04<00:00,  3.14it/s, Loss=2.1122, Avg Loss=1.9226]\n"
          ]
        },
        {
          "output_type": "stream",
          "name": "stdout",
          "text": [
            "Epoch [38/50], Train Loss: 1.9226, Test Accuracy: 27.15%\n"
          ]
        },
        {
          "output_type": "stream",
          "name": "stderr",
          "text": [
            "Epoch 39/50: 100%|██████████| 391/391 [02:04<00:00,  3.14it/s, Loss=1.8475, Avg Loss=1.9228]\n"
          ]
        },
        {
          "output_type": "stream",
          "name": "stdout",
          "text": [
            "Epoch [39/50], Train Loss: 1.9228, Test Accuracy: 27.07%\n"
          ]
        },
        {
          "output_type": "stream",
          "name": "stderr",
          "text": [
            "Epoch 40/50: 100%|██████████| 391/391 [02:04<00:00,  3.13it/s, Loss=1.8170, Avg Loss=1.9184]\n"
          ]
        },
        {
          "output_type": "stream",
          "name": "stdout",
          "text": [
            "Epoch [40/50], Train Loss: 1.9184, Test Accuracy: 27.59%\n"
          ]
        },
        {
          "output_type": "stream",
          "name": "stderr",
          "text": [
            "Epoch 41/50: 100%|██████████| 391/391 [02:04<00:00,  3.14it/s, Loss=1.9469, Avg Loss=1.9176]\n"
          ]
        },
        {
          "output_type": "stream",
          "name": "stdout",
          "text": [
            "Epoch [41/50], Train Loss: 1.9176, Test Accuracy: 26.19%\n"
          ]
        },
        {
          "output_type": "stream",
          "name": "stderr",
          "text": [
            "Epoch 42/50: 100%|██████████| 391/391 [02:04<00:00,  3.13it/s, Loss=1.8362, Avg Loss=1.9109]\n"
          ]
        },
        {
          "output_type": "stream",
          "name": "stdout",
          "text": [
            "Epoch [42/50], Train Loss: 1.9109, Test Accuracy: 27.47%\n"
          ]
        },
        {
          "output_type": "stream",
          "name": "stderr",
          "text": [
            "Epoch 43/50: 100%|██████████| 391/391 [02:04<00:00,  3.14it/s, Loss=1.8165, Avg Loss=1.9087]\n"
          ]
        },
        {
          "output_type": "stream",
          "name": "stdout",
          "text": [
            "Epoch [43/50], Train Loss: 1.9087, Test Accuracy: 27.46%\n"
          ]
        },
        {
          "output_type": "stream",
          "name": "stderr",
          "text": [
            "Epoch 44/50: 100%|██████████| 391/391 [02:04<00:00,  3.14it/s, Loss=1.7989, Avg Loss=1.9076]\n"
          ]
        },
        {
          "output_type": "stream",
          "name": "stdout",
          "text": [
            "Epoch [44/50], Train Loss: 1.9076, Test Accuracy: 27.71%\n"
          ]
        },
        {
          "output_type": "stream",
          "name": "stderr",
          "text": [
            "Epoch 45/50: 100%|██████████| 391/391 [02:04<00:00,  3.13it/s, Loss=1.9634, Avg Loss=1.9088]\n"
          ]
        },
        {
          "output_type": "stream",
          "name": "stdout",
          "text": [
            "Epoch [45/50], Train Loss: 1.9088, Test Accuracy: 27.41%\n"
          ]
        },
        {
          "output_type": "stream",
          "name": "stderr",
          "text": [
            "Epoch 46/50: 100%|██████████| 391/391 [02:04<00:00,  3.14it/s, Loss=1.9255, Avg Loss=1.9057]\n"
          ]
        },
        {
          "output_type": "stream",
          "name": "stdout",
          "text": [
            "Epoch [46/50], Train Loss: 1.9057, Test Accuracy: 27.24%\n"
          ]
        },
        {
          "output_type": "stream",
          "name": "stderr",
          "text": [
            "Epoch 47/50: 100%|██████████| 391/391 [02:04<00:00,  3.14it/s, Loss=1.9939, Avg Loss=1.9045]\n"
          ]
        },
        {
          "output_type": "stream",
          "name": "stdout",
          "text": [
            "Epoch [47/50], Train Loss: 1.9045, Test Accuracy: 27.67%\n"
          ]
        },
        {
          "output_type": "stream",
          "name": "stderr",
          "text": [
            "Epoch 48/50: 100%|██████████| 391/391 [02:04<00:00,  3.13it/s, Loss=1.8895, Avg Loss=1.9035]\n"
          ]
        },
        {
          "output_type": "stream",
          "name": "stdout",
          "text": [
            "Epoch [48/50], Train Loss: 1.9035, Test Accuracy: 27.70%\n"
          ]
        },
        {
          "output_type": "stream",
          "name": "stderr",
          "text": [
            "Epoch 49/50: 100%|██████████| 391/391 [02:04<00:00,  3.14it/s, Loss=1.8311, Avg Loss=1.9021]\n"
          ]
        },
        {
          "output_type": "stream",
          "name": "stdout",
          "text": [
            "Epoch [49/50], Train Loss: 1.9021, Test Accuracy: 27.58%\n"
          ]
        },
        {
          "output_type": "stream",
          "name": "stderr",
          "text": [
            "Epoch 50/50: 100%|██████████| 391/391 [02:04<00:00,  3.14it/s, Loss=2.0432, Avg Loss=1.9049]\n"
          ]
        },
        {
          "output_type": "stream",
          "name": "stdout",
          "text": [
            "Epoch [50/50], Train Loss: 1.9049, Test Accuracy: 27.63%\n"
          ]
        },
        {
          "output_type": "display_data",
          "data": {
            "text/plain": [
              "<Figure size 1200x400 with 2 Axes>"
            ],
            "image/png": "[encoded data removed]"
          },
          "metadata": {}
        },
        {
          "output_type": "stream",
          "name": "stdout",
          "text": [
            "Final Test Accuracy: 27.63%\n"
          ]
        }
      ]
    },
    {
      "cell_type": "code",
      "source": [
        "class ImprovedViT(VisionTransformer):\n",
        "    \"\"\"\n",
        "    Improved ViT with additional techniques for better performance\n",
        "    \"\"\"\n",
        "    def __init__(self, *args, **kwargs):\n",
        "        super().__init__(*args, **kwargs)\n",
        "\n",
        "        # Additional regularization: stochastic depth\n",
        "        self.stochastic_depth = nn.Dropout(0.1)\n",
        "\n",
        "    def forward(self, x):\n",
        "        batch_size = x.shape[0]\n",
        "\n",
        "        # Patch embedding\n",
        "        x = self.patch_embed(x)\n",
        "\n",
        "        # Add CLS token\n",
        "        cls_tokens = self.cls_token.expand(batch_size, -1, -1)\n",
        "        x = torch.cat((cls_tokens, x), dim=1)\n",
        "\n",
        "        # Add positional embeddings\n",
        "        x = x + self.pos_embed\n",
        "        x = self.pos_dropout(x)\n",
        "\n",
        "        # Pass through transformer blocks with stochastic depth\n",
        "        for i, block in enumerate(self.blocks):\n",
        "            # Apply stochastic depth (skip connections with probability)\n",
        "            if self.training and torch.rand(1).item() < 0.1:\n",
        "                continue\n",
        "            x = block(x)\n",
        "        # Final layer norm\n",
        "        x = self.norm(x)\n",
        "\n",
        "        # Use CLS token for classification\n",
        "        cls_token_final = x[:, 0]\n",
        "        output = self.head(cls_token_final)\n",
        "\n",
        "        return output\n",
        "\n",
        "# Advanced training with learning rate warmup\n",
        "def train_with_warmup(model, train_loader, test_loader, epochs=50, lr=0.001):\n",
        "    criterion = nn.CrossEntropyLoss()\n",
        "    optimizer = optim.AdamW(model.parameters(), lr=lr, weight_decay=0.01)\n",
        "\n",
        "    # Warmup scheduler\n",
        "    warmup_epochs = 5\n",
        "    scheduler = optim.lr_scheduler.OneCycleLR(\n",
        "        optimizer, max_lr=lr, epochs=epochs,\n",
        "        steps_per_epoch=len(train_loader)\n",
        "    )\n",
        "\n",
        "    train_losses = []\n",
        "    test_accuracies = []\n",
        "\n",
        "    for epoch in range(epochs):\n",
        "        model.train()\n",
        "        running_loss = 0.0\n",
        "\n",
        "        for batch_idx, (images, labels) in enumerate(tqdm(train_loader)):\n",
        "            images, labels = images.to(device), labels.to(device)\n",
        "            outputs = model(images)\n",
        "            loss = criterion(outputs, labels)\n",
        "\n",
        "            optimizer.zero_grad()\n",
        "            loss.backward()\n",
        "\n",
        "            # Gradient clipping\n",
        "            torch.nn.utils.clip_grad_norm_(model.parameters(), max_norm=1.0)\n",
        "            optimizer.step()\n",
        "            scheduler.step()\n",
        "\n",
        "            running_loss += loss.item()\n",
        "\n",
        "        avg_train_loss = running_loss / len(train_loader)\n",
        "        train_losses.append(avg_train_loss)\n",
        "\n",
        "        test_accuracy = evaluate_model(model, test_loader)\n",
        "        test_accuracies.append(test_accuracy)\n",
        "\n",
        "        print(f'Epoch [{epoch+1}/{epochs}], '\n",
        "              f'Loss: {avg_train_loss:.4f}, '\n",
        "              f'Accuracy: {test_accuracy:.2f}%')\n",
        "\n",
        "    return train_losses, test_accuracies\n",
        "\n"
      ],
      "metadata": {
        "id": "gKgAb87HkE2S"
      },
      "execution_count": 9,
      "outputs": []
    }
  ]
}